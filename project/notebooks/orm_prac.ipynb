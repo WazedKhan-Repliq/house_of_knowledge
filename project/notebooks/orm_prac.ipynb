{
 "cells": [
  {
   "cell_type": "code",
   "execution_count": 57,
   "metadata": {},
   "outputs": [],
   "source": [
    "from notebook_config import init_django\n",
    "init_django(project_name=\"config\")"
   ]
  },
  {
   "cell_type": "code",
   "execution_count": 58,
   "metadata": {},
   "outputs": [],
   "source": [
    "from orm_prac.models import *"
   ]
  },
  {
   "cell_type": "code",
   "execution_count": 59,
   "metadata": {},
   "outputs": [],
   "source": [
    "from django.db.models import F"
   ]
  },
  {
   "cell_type": "code",
   "execution_count": 60,
   "metadata": {},
   "outputs": [],
   "source": [
    "def print_companies(queryset, extra_field=None):\n",
    "    print(f\"Found total {queryset.count()} companies! \\n\")\n",
    "\n",
    "    for company in queryset[:2]:\n",
    "        print(f\"Company Name: {company.name}\")\n",
    "        print(f\"Number of Employee: {company.num_employees}\")\n",
    "        print(f\"Number of Chairs: {company.num_chairs}\")\n",
    "        print(f\"Ticker: {company.ticker}\")\n",
    "        if extra_field:\n",
    "            print(company.chair_need)\n",
    "        print(\"======================================\")"
   ]
  },
  {
   "cell_type": "code",
   "execution_count": 61,
   "metadata": {},
   "outputs": [
    {
     "name": "stdout",
     "output_type": "stream",
     "text": [
      "Found total 48 companies! \n",
      "\n",
      "Company Name: Parrish, Cline and Reyes\n",
      "Number of Employee: 558\n",
      "Number of Chairs: 11\n",
      "Ticker: bJtr\n",
      "======================================\n",
      "Company Name: Williams-Hall\n",
      "Number of Employee: 401\n",
      "Number of Chairs: 380\n",
      "Ticker: aeDy\n",
      "======================================\n"
     ]
    }
   ],
   "source": [
    "# Find companies that have more employees than chairs.\n",
    "companies = Company.objects.filter(num_employees__gt=F(\"num_chairs\"))\n",
    "\n",
    "print_companies(companies)"
   ]
  },
  {
   "cell_type": "code",
   "execution_count": 62,
   "metadata": {},
   "outputs": [
    {
     "name": "stdout",
     "output_type": "stream",
     "text": [
      "Found total 26 companies! \n",
      "\n",
      "Company Name: Parrish, Cline and Reyes\n",
      "Number of Employee: 558\n",
      "Number of Chairs: 11\n",
      "Ticker: bJtr\n",
      "======================================\n",
      "Company Name: Thornton, Reyes and Dougherty\n",
      "Number of Employee: 886\n",
      "Number of Chairs: 423\n",
      "Ticker: VUPQ\n",
      "======================================\n"
     ]
    }
   ],
   "source": [
    "# Find companies that have at least twice as many employees as chairs\n",
    "companies = Company.objects.filter(num_employees__gt=F(\"num_chairs\") * 2)\n",
    "\n",
    "print_companies(companies)"
   ]
  },
  {
   "cell_type": "code",
   "execution_count": 70,
   "metadata": {},
   "outputs": [
    {
     "name": "stdout",
     "output_type": "stream",
     "text": [
      "Company Name: Parrish, Cline and Reyes\n",
      "Number of Employee: 558\n",
      "Number of Chairs: 11\n",
      "547 chairs are in needs!\n",
      "---------------------------------------\n",
      "Company Name: Williams-Hall\n",
      "Number of Employee: 401\n",
      "Number of Chairs: 380\n",
      "21 chairs are in needs!\n",
      "---------------------------------------\n",
      "Company Name: Carson PLC\n",
      "Number of Employee: 369\n",
      "Number of Chairs: 210\n",
      "159 chairs are in needs!\n",
      "---------------------------------------\n",
      "Company Name: Brown Inc\n",
      "Number of Employee: 890\n",
      "Number of Chairs: 546\n",
      "344 chairs are in needs!\n",
      "---------------------------------------\n",
      "Company Name: Baker, James and Simmons\n",
      "Number of Employee: 383\n",
      "Number of Chairs: 348\n",
      "35 chairs are in needs!\n",
      "---------------------------------------\n"
     ]
    }
   ],
   "source": [
    "companies = Company.objects.filter(num_employees__gt=F(\"num_chairs\")) \\\n",
    "    .annotate(chair_needed=F(\"num_employees\")-F(\"num_chairs\"))[:5]\n",
    "    \n",
    "for company in companies:\n",
    "    print(f\"Company Name: {company.name}\")\n",
    "    print(f\"Number of Employee: {company.num_employees}\")\n",
    "    print(f\"Number of Chairs: {company.num_chairs}\")\n",
    "    print(f\"{company.chair_needed} chairs are in needs!\")\n",
    "    print(\"---------------------------------------\")"
   ]
  },
  {
   "cell_type": "code",
   "execution_count": null,
   "metadata": {},
   "outputs": [],
   "source": []
  }
 ],
 "metadata": {
  "kernelspec": {
   "display_name": "env",
   "language": "python",
   "name": "python3"
  },
  "language_info": {
   "codemirror_mode": {
    "name": "ipython",
    "version": 3
   },
   "file_extension": ".py",
   "mimetype": "text/x-python",
   "name": "python",
   "nbconvert_exporter": "python",
   "pygments_lexer": "ipython3",
   "version": "3.10.4"
  },
  "orig_nbformat": 4
 },
 "nbformat": 4,
 "nbformat_minor": 2
}
