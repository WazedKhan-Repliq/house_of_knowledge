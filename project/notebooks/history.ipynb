{
 "cells": [
  {
   "cell_type": "code",
   "execution_count": 13,
   "metadata": {},
   "outputs": [],
   "source": [
    "from contextlib import suppress"
   ]
  },
  {
   "cell_type": "code",
   "execution_count": 1,
   "metadata": {},
   "outputs": [],
   "source": [
    "from notebook_config import init_django\n",
    "init_django(project_name=\"config\")"
   ]
  },
  {
   "cell_type": "code",
   "execution_count": 2,
   "metadata": {},
   "outputs": [],
   "source": [
    "from book.models import Book"
   ]
  },
  {
   "cell_type": "code",
   "execution_count": 24,
   "metadata": {},
   "outputs": [
    {
     "data": {
      "text/plain": [
       "<HistoricalQuerySet [<HistoricalBook: Kyoukai Senki: Kyokkou no Souki 2 as of 2023-10-24 15:22:18.895324+00:00>, <HistoricalBook: Kyoukai Senki: Kyokkou no Souki as of 2023-10-24 15:16:53.135726+00:00>]>"
      ]
     },
     "execution_count": 24,
     "metadata": {},
     "output_type": "execute_result"
    }
   ],
   "source": [
    "book_history = Book.history.all()\n",
    "book_history"
   ]
  },
  {
   "cell_type": "code",
   "execution_count": 22,
   "metadata": {},
   "outputs": [
    {
     "name": "stdout",
     "output_type": "stream",
     "text": [
      "Current: Kyoukai Senki: Kyokkou no Souki 2\n",
      "Pervious: Kyoukai Senki: Kyokkou no Souki\n",
      "===========================\n",
      "Current: Kyoukai Senki: Kyokkou no Souki\n",
      "\n",
      "===========================\n"
     ]
    }
   ],
   "source": [
    "for history in book_history:\n",
    "        # print(f\"Next: {history.next_record.title}\")\n",
    "        print(f\"Current: {history.title}\")\n",
    "        print(f\"Pervious: {history.prev_record.title}\" if history.prev_record else \"\")\n",
    "        print(\"===========================\")"
   ]
  },
  {
   "cell_type": "code",
   "execution_count": 34,
   "metadata": {},
   "outputs": [],
   "source": [
    "def get_history_for_instance(instance, field_names):\n",
    "    historical_records = instance.history.all()\n",
    "    history_data = []\n",
    "\n",
    "    for record in historical_records:\n",
    "        record_data = {'timestamp': record.history_date}\n",
    "        for field_name in field_names:\n",
    "            previous_value = getattr(record.prev_record, field_name) if record.prev_record else None\n",
    "            current_value = getattr(record, field_name)\n",
    "            record_data[field_name] = {'previous': previous_value, 'current': current_value}\n",
    "            history_data.append(record_data)\n",
    "\n",
    "    return history_data"
   ]
  },
  {
   "cell_type": "code",
   "execution_count": 35,
   "metadata": {},
   "outputs": [
    {
     "data": {
      "text/plain": [
       "[{'timestamp': datetime.datetime(2023, 10, 24, 15, 22, 18, 895324, tzinfo=datetime.timezone.utc),\n",
       "  'title': {'previous': 'Kyoukai Senki: Kyokkou no Souki',\n",
       "   'current': 'Kyoukai Senki: Kyokkou no Souki 2'}},\n",
       " {'timestamp': datetime.datetime(2023, 10, 24, 15, 16, 53, 135726, tzinfo=datetime.timezone.utc),\n",
       "  'title': {'previous': None, 'current': 'Kyoukai Senki: Kyokkou no Souki'}}]"
      ]
     },
     "execution_count": 35,
     "metadata": {},
     "output_type": "execute_result"
    }
   ],
   "source": [
    "book = Book.objects.first()\n",
    "fields_to_track = ['title']\n",
    "\n",
    "get_history_for_instance(instance=book, field_names=fields_to_track)"
   ]
  }
 ],
 "metadata": {
  "kernelspec": {
   "display_name": "env",
   "language": "python",
   "name": "python3"
  },
  "language_info": {
   "codemirror_mode": {
    "name": "ipython",
    "version": 3
   },
   "file_extension": ".py",
   "mimetype": "text/x-python",
   "name": "python",
   "nbconvert_exporter": "python",
   "pygments_lexer": "ipython3",
   "version": "3.10.4"
  }
 },
 "nbformat": 4,
 "nbformat_minor": 2
}
